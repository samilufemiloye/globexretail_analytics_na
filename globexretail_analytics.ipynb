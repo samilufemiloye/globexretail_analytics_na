{
 "cells": [
  {
   "cell_type": "markdown",
   "id": "ea9dfe17",
   "metadata": {},
   "source": [
    "### PROJECT WORKFLOW\n",
    "1. Dataset Familiarization\n",
    "2. Data Cleaning\n",
    "3. New Features Engineering\n",
    "4. Exploratory Data Analysis (EDA)\n",
    "5. Insights Generation with Panda:\n",
    "    1. Which product category has generated the most revenue?\n",
    "    2. Which product subcategories generate the most revenue?\n",
    "    3. Which customer segment has the highest average order value?\n",
    "    4. What is the average discount applied to high-value customers?\n",
    "    5. Which geographic locations have the highest concentration of high-value customers?\n",
    "    6. How does the discount rate impact the total sales across different product categories?\n",
    "    7. Identify trends in purchase behavior over time (e.g., monthly)"
   ]
  },
  {
   "cell_type": "code",
   "execution_count": 2,
   "id": "a7c84d32",
   "metadata": {},
   "outputs": [],
   "source": [
    "import pandas as pd\n",
    "import matplotlib.pyplot as plt\n",
    "import seaborn as sns"
   ]
  },
  {
   "cell_type": "markdown",
   "id": "badd9ff5",
   "metadata": {
    "vscode": {
     "languageId": "plaintext"
    }
   },
   "source": [
    "### 1. DATA FAMILIARIZATION and EXTRACTION"
   ]
  },
  {
   "cell_type": "code",
   "execution_count": 6,
   "id": "aabd26b0",
   "metadata": {},
   "outputs": [
    {
     "data": {
      "text/html": [
       "<div>\n",
       "<style scoped>\n",
       "    .dataframe tbody tr th:only-of-type {\n",
       "        vertical-align: middle;\n",
       "    }\n",
       "\n",
       "    .dataframe tbody tr th {\n",
       "        vertical-align: top;\n",
       "    }\n",
       "\n",
       "    .dataframe thead th {\n",
       "        text-align: right;\n",
       "    }\n",
       "</style>\n",
       "<table border=\"1\" class=\"dataframe\">\n",
       "  <thead>\n",
       "    <tr style=\"text-align: right;\">\n",
       "      <th></th>\n",
       "      <th>Customer_ID</th>\n",
       "      <th>Order_ID</th>\n",
       "      <th>Order_Date</th>\n",
       "      <th>Product_Category</th>\n",
       "      <th>Product_Sub_Category</th>\n",
       "      <th>Quantity</th>\n",
       "      <th>Price</th>\n",
       "      <th>Discount</th>\n",
       "      <th>Customer_Location</th>\n",
       "      <th>Revenue</th>\n",
       "    </tr>\n",
       "  </thead>\n",
       "  <tbody>\n",
       "    <tr>\n",
       "      <th>0</th>\n",
       "      <td>CUST_013738</td>\n",
       "      <td>ORD_00102406</td>\n",
       "      <td>2023-01-01</td>\n",
       "      <td>Home &amp; Garden</td>\n",
       "      <td>Gardening Tools</td>\n",
       "      <td>1</td>\n",
       "      <td>419.19</td>\n",
       "      <td>0.00</td>\n",
       "      <td>TN</td>\n",
       "      <td>419.1900</td>\n",
       "    </tr>\n",
       "    <tr>\n",
       "      <th>1</th>\n",
       "      <td>CUST_011726</td>\n",
       "      <td>ORD_00102902</td>\n",
       "      <td>2023-01-01</td>\n",
       "      <td>Electronics</td>\n",
       "      <td>Laptops</td>\n",
       "      <td>1</td>\n",
       "      <td>222.37</td>\n",
       "      <td>0.09</td>\n",
       "      <td>TN</td>\n",
       "      <td>202.3567</td>\n",
       "    </tr>\n",
       "    <tr>\n",
       "      <th>2</th>\n",
       "      <td>CUST_010891</td>\n",
       "      <td>ORD_00103864</td>\n",
       "      <td>2023-01-01</td>\n",
       "      <td>Electronics</td>\n",
       "      <td>Laptops</td>\n",
       "      <td>6</td>\n",
       "      <td>1107.65</td>\n",
       "      <td>0.00</td>\n",
       "      <td>IN</td>\n",
       "      <td>6645.9000</td>\n",
       "    </tr>\n",
       "    <tr>\n",
       "      <th>3</th>\n",
       "      <td>CUST_011452</td>\n",
       "      <td>ORD_00103560</td>\n",
       "      <td>2023-01-01</td>\n",
       "      <td>Electronics</td>\n",
       "      <td>Gaming Consoles</td>\n",
       "      <td>5</td>\n",
       "      <td>288.84</td>\n",
       "      <td>0.00</td>\n",
       "      <td>MA</td>\n",
       "      <td>1444.2000</td>\n",
       "    </tr>\n",
       "    <tr>\n",
       "      <th>4</th>\n",
       "      <td>CUST_010886</td>\n",
       "      <td>ORD_00100632</td>\n",
       "      <td>2023-01-02</td>\n",
       "      <td>Electronics</td>\n",
       "      <td>Headphones</td>\n",
       "      <td>1</td>\n",
       "      <td>191.27</td>\n",
       "      <td>0.00</td>\n",
       "      <td>AZ</td>\n",
       "      <td>191.2700</td>\n",
       "    </tr>\n",
       "    <tr>\n",
       "      <th>...</th>\n",
       "      <td>...</td>\n",
       "      <td>...</td>\n",
       "      <td>...</td>\n",
       "      <td>...</td>\n",
       "      <td>...</td>\n",
       "      <td>...</td>\n",
       "      <td>...</td>\n",
       "      <td>...</td>\n",
       "      <td>...</td>\n",
       "      <td>...</td>\n",
       "    </tr>\n",
       "    <tr>\n",
       "      <th>4995</th>\n",
       "      <td>CUST_014386</td>\n",
       "      <td>ORD_00104856</td>\n",
       "      <td>2024-12-31</td>\n",
       "      <td>Home &amp; Garden</td>\n",
       "      <td>Furniture</td>\n",
       "      <td>1</td>\n",
       "      <td>196.62</td>\n",
       "      <td>0.00</td>\n",
       "      <td>MO</td>\n",
       "      <td>196.6200</td>\n",
       "    </tr>\n",
       "    <tr>\n",
       "      <th>4996</th>\n",
       "      <td>CUST_014231</td>\n",
       "      <td>ORD_00101362</td>\n",
       "      <td>2024-12-31</td>\n",
       "      <td>Beauty</td>\n",
       "      <td>Makeup</td>\n",
       "      <td>1</td>\n",
       "      <td>52.41</td>\n",
       "      <td>0.15</td>\n",
       "      <td>KY</td>\n",
       "      <td>44.5485</td>\n",
       "    </tr>\n",
       "    <tr>\n",
       "      <th>4997</th>\n",
       "      <td>CUST_014416</td>\n",
       "      <td>ORD_00101741</td>\n",
       "      <td>2024-12-31</td>\n",
       "      <td>Beauty</td>\n",
       "      <td>Skincare</td>\n",
       "      <td>1</td>\n",
       "      <td>138.98</td>\n",
       "      <td>0.08</td>\n",
       "      <td>MN</td>\n",
       "      <td>127.8616</td>\n",
       "    </tr>\n",
       "    <tr>\n",
       "      <th>4998</th>\n",
       "      <td>CUST_014307</td>\n",
       "      <td>ORD_00104277</td>\n",
       "      <td>2024-12-31</td>\n",
       "      <td>Home &amp; Garden</td>\n",
       "      <td>Furniture</td>\n",
       "      <td>2</td>\n",
       "      <td>550.05</td>\n",
       "      <td>0.00</td>\n",
       "      <td>NJ</td>\n",
       "      <td>1100.1000</td>\n",
       "    </tr>\n",
       "    <tr>\n",
       "      <th>4999</th>\n",
       "      <td>CUST_011263</td>\n",
       "      <td>ORD_00103455</td>\n",
       "      <td>2024-12-31</td>\n",
       "      <td>Books</td>\n",
       "      <td>Educational</td>\n",
       "      <td>2</td>\n",
       "      <td>58.85</td>\n",
       "      <td>0.14</td>\n",
       "      <td>AL</td>\n",
       "      <td>101.2220</td>\n",
       "    </tr>\n",
       "  </tbody>\n",
       "</table>\n",
       "<p>5000 rows × 10 columns</p>\n",
       "</div>"
      ],
      "text/plain": [
       "      Customer_ID      Order_ID  Order_Date Product_Category  \\\n",
       "0     CUST_013738  ORD_00102406  2023-01-01    Home & Garden   \n",
       "1     CUST_011726  ORD_00102902  2023-01-01      Electronics   \n",
       "2     CUST_010891  ORD_00103864  2023-01-01      Electronics   \n",
       "3     CUST_011452  ORD_00103560  2023-01-01      Electronics   \n",
       "4     CUST_010886  ORD_00100632  2023-01-02      Electronics   \n",
       "...           ...           ...         ...              ...   \n",
       "4995  CUST_014386  ORD_00104856  2024-12-31    Home & Garden   \n",
       "4996  CUST_014231  ORD_00101362  2024-12-31           Beauty   \n",
       "4997  CUST_014416  ORD_00101741  2024-12-31           Beauty   \n",
       "4998  CUST_014307  ORD_00104277  2024-12-31    Home & Garden   \n",
       "4999  CUST_011263  ORD_00103455  2024-12-31            Books   \n",
       "\n",
       "     Product_Sub_Category  Quantity    Price  Discount Customer_Location  \\\n",
       "0         Gardening Tools         1   419.19      0.00                TN   \n",
       "1                 Laptops         1   222.37      0.09                TN   \n",
       "2                 Laptops         6  1107.65      0.00                IN   \n",
       "3         Gaming Consoles         5   288.84      0.00                MA   \n",
       "4              Headphones         1   191.27      0.00                AZ   \n",
       "...                   ...       ...      ...       ...               ...   \n",
       "4995            Furniture         1   196.62      0.00                MO   \n",
       "4996               Makeup         1    52.41      0.15                KY   \n",
       "4997             Skincare         1   138.98      0.08                MN   \n",
       "4998            Furniture         2   550.05      0.00                NJ   \n",
       "4999          Educational         2    58.85      0.14                AL   \n",
       "\n",
       "        Revenue  \n",
       "0      419.1900  \n",
       "1      202.3567  \n",
       "2     6645.9000  \n",
       "3     1444.2000  \n",
       "4      191.2700  \n",
       "...         ...  \n",
       "4995   196.6200  \n",
       "4996    44.5485  \n",
       "4997   127.8616  \n",
       "4998  1100.1000  \n",
       "4999   101.2220  \n",
       "\n",
       "[5000 rows x 10 columns]"
      ]
     },
     "execution_count": 6,
     "metadata": {},
     "output_type": "execute_result"
    }
   ],
   "source": [
    "# Reading a csv file into a dataframe\n",
    "\n",
    "df_grd = pd.read_csv(r'C:\\Users\\user\\Desktop\\10alytics\\globex_retail_analytics\\data\\globex_retail_data.csv')\n",
    "\n",
    "df_grd"
   ]
  },
  {
   "cell_type": "code",
   "execution_count": 7,
   "id": "dabb5fcf",
   "metadata": {},
   "outputs": [
    {
     "data": {
      "text/html": [
       "<div>\n",
       "<style scoped>\n",
       "    .dataframe tbody tr th:only-of-type {\n",
       "        vertical-align: middle;\n",
       "    }\n",
       "\n",
       "    .dataframe tbody tr th {\n",
       "        vertical-align: top;\n",
       "    }\n",
       "\n",
       "    .dataframe thead th {\n",
       "        text-align: right;\n",
       "    }\n",
       "</style>\n",
       "<table border=\"1\" class=\"dataframe\">\n",
       "  <thead>\n",
       "    <tr style=\"text-align: right;\">\n",
       "      <th></th>\n",
       "      <th>Customer_ID</th>\n",
       "      <th>Order_ID</th>\n",
       "      <th>Order_Date</th>\n",
       "      <th>Product_Category</th>\n",
       "      <th>Product_Sub_Category</th>\n",
       "      <th>Quantity</th>\n",
       "      <th>Price</th>\n",
       "      <th>Discount</th>\n",
       "      <th>Customer_Location</th>\n",
       "      <th>Revenue</th>\n",
       "    </tr>\n",
       "  </thead>\n",
       "  <tbody>\n",
       "    <tr>\n",
       "      <th>0</th>\n",
       "      <td>CUST_013738</td>\n",
       "      <td>ORD_00102406</td>\n",
       "      <td>2023-01-01</td>\n",
       "      <td>Home &amp; Garden</td>\n",
       "      <td>Gardening Tools</td>\n",
       "      <td>1</td>\n",
       "      <td>419.19</td>\n",
       "      <td>0.00</td>\n",
       "      <td>TN</td>\n",
       "      <td>419.1900</td>\n",
       "    </tr>\n",
       "    <tr>\n",
       "      <th>1</th>\n",
       "      <td>CUST_011726</td>\n",
       "      <td>ORD_00102902</td>\n",
       "      <td>2023-01-01</td>\n",
       "      <td>Electronics</td>\n",
       "      <td>Laptops</td>\n",
       "      <td>1</td>\n",
       "      <td>222.37</td>\n",
       "      <td>0.09</td>\n",
       "      <td>TN</td>\n",
       "      <td>202.3567</td>\n",
       "    </tr>\n",
       "    <tr>\n",
       "      <th>2</th>\n",
       "      <td>CUST_010891</td>\n",
       "      <td>ORD_00103864</td>\n",
       "      <td>2023-01-01</td>\n",
       "      <td>Electronics</td>\n",
       "      <td>Laptops</td>\n",
       "      <td>6</td>\n",
       "      <td>1107.65</td>\n",
       "      <td>0.00</td>\n",
       "      <td>IN</td>\n",
       "      <td>6645.9000</td>\n",
       "    </tr>\n",
       "    <tr>\n",
       "      <th>3</th>\n",
       "      <td>CUST_011452</td>\n",
       "      <td>ORD_00103560</td>\n",
       "      <td>2023-01-01</td>\n",
       "      <td>Electronics</td>\n",
       "      <td>Gaming Consoles</td>\n",
       "      <td>5</td>\n",
       "      <td>288.84</td>\n",
       "      <td>0.00</td>\n",
       "      <td>MA</td>\n",
       "      <td>1444.2000</td>\n",
       "    </tr>\n",
       "    <tr>\n",
       "      <th>4</th>\n",
       "      <td>CUST_010886</td>\n",
       "      <td>ORD_00100632</td>\n",
       "      <td>2023-01-02</td>\n",
       "      <td>Electronics</td>\n",
       "      <td>Headphones</td>\n",
       "      <td>1</td>\n",
       "      <td>191.27</td>\n",
       "      <td>0.00</td>\n",
       "      <td>AZ</td>\n",
       "      <td>191.2700</td>\n",
       "    </tr>\n",
       "  </tbody>\n",
       "</table>\n",
       "</div>"
      ],
      "text/plain": [
       "   Customer_ID      Order_ID  Order_Date Product_Category  \\\n",
       "0  CUST_013738  ORD_00102406  2023-01-01    Home & Garden   \n",
       "1  CUST_011726  ORD_00102902  2023-01-01      Electronics   \n",
       "2  CUST_010891  ORD_00103864  2023-01-01      Electronics   \n",
       "3  CUST_011452  ORD_00103560  2023-01-01      Electronics   \n",
       "4  CUST_010886  ORD_00100632  2023-01-02      Electronics   \n",
       "\n",
       "  Product_Sub_Category  Quantity    Price  Discount Customer_Location  \\\n",
       "0      Gardening Tools         1   419.19      0.00                TN   \n",
       "1              Laptops         1   222.37      0.09                TN   \n",
       "2              Laptops         6  1107.65      0.00                IN   \n",
       "3      Gaming Consoles         5   288.84      0.00                MA   \n",
       "4           Headphones         1   191.27      0.00                AZ   \n",
       "\n",
       "     Revenue  \n",
       "0   419.1900  \n",
       "1   202.3567  \n",
       "2  6645.9000  \n",
       "3  1444.2000  \n",
       "4   191.2700  "
      ]
     },
     "execution_count": 7,
     "metadata": {},
     "output_type": "execute_result"
    }
   ],
   "source": [
    "df_grd.head()"
   ]
  },
  {
   "cell_type": "code",
   "execution_count": 8,
   "id": "ec4185a5",
   "metadata": {},
   "outputs": [
    {
     "data": {
      "text/plain": [
       "Index(['Customer_ID', 'Order_ID', 'Order_Date', 'Product_Category',\n",
       "       'Product_Sub_Category', 'Quantity', 'Price', 'Discount',\n",
       "       'Customer_Location', 'Revenue'],\n",
       "      dtype='object')"
      ]
     },
     "execution_count": 8,
     "metadata": {},
     "output_type": "execute_result"
    }
   ],
   "source": [
    "# Checking the columns\n",
    "df_grd.columns"
   ]
  },
  {
   "cell_type": "code",
   "execution_count": 77,
   "id": "82941945",
   "metadata": {},
   "outputs": [
    {
     "name": "stdout",
     "output_type": "stream",
     "text": [
      "<class 'pandas.core.frame.DataFrame'>\n",
      "RangeIndex: 5000 entries, 0 to 4999\n",
      "Data columns (total 14 columns):\n",
      " #   Column                Non-Null Count  Dtype   \n",
      "---  ------                --------------  -----   \n",
      " 0   Customer_ID           5000 non-null   object  \n",
      " 1   Order_ID              5000 non-null   object  \n",
      " 2   Order_Date            5000 non-null   object  \n",
      " 3   Product_Category      5000 non-null   object  \n",
      " 4   Product_Sub_Category  5000 non-null   object  \n",
      " 5   Quantity              5000 non-null   int64   \n",
      " 6   Price                 5000 non-null   float64 \n",
      " 7   Discount              5000 non-null   float64 \n",
      " 8   Customer_Location     5000 non-null   object  \n",
      " 9   Revenue               5000 non-null   float64 \n",
      " 10  TotalPrice            5000 non-null   float64 \n",
      " 11  Discount_Amount       5000 non-null   float64 \n",
      " 12  Final_Revenue         5000 non-null   float64 \n",
      " 13  Discount_Level        5000 non-null   category\n",
      "dtypes: category(1), float64(6), int64(1), object(6)\n",
      "memory usage: 513.0+ KB\n"
     ]
    }
   ],
   "source": [
    "# Check the number of parameters missing\n",
    "df_grd.info()"
   ]
  },
  {
   "cell_type": "markdown",
   "id": "41fb376f",
   "metadata": {},
   "source": [
    "### 2. DATA QUALITY ASSESSMENT CHECKS and CLEANING"
   ]
  },
  {
   "cell_type": "code",
   "execution_count": 40,
   "id": "68845718",
   "metadata": {},
   "outputs": [
    {
     "name": "stdout",
     "output_type": "stream",
     "text": [
      "There is no duplicate records!\n"
     ]
    }
   ],
   "source": [
    "# Checking for duplicate records\n",
    "duplicates = df_grd.duplicated().sum()\n",
    "\n",
    "if duplicates > 0:\n",
    "    duplicated_rows = df_grd[df_grd.duplicated(keep=False)]\n",
    "    print(duplicated_rows.head())\n",
    "else:\n",
    "    print('There is no duplicate records!')"
   ]
  },
  {
   "cell_type": "code",
   "execution_count": 41,
   "id": "aa7c2dae",
   "metadata": {},
   "outputs": [],
   "source": [
    "# Remove duplicates\n",
    "df = df_grd.drop_duplicates()"
   ]
  },
  {
   "cell_type": "code",
   "execution_count": 42,
   "id": "e152554c",
   "metadata": {},
   "outputs": [
    {
     "name": "stdout",
     "output_type": "stream",
     "text": [
      "Missing values per column:\n",
      "Customer_ID             0\n",
      "Order_ID                0\n",
      "Order_Date              0\n",
      "Product_Category        0\n",
      "Product_Sub_Category    0\n",
      "Quantity                0\n",
      "Price                   0\n",
      "Discount                0\n",
      "Customer_Location       0\n",
      "Revenue                 0\n",
      "TotalPrice              0\n",
      "Discount_Amount         0\n",
      "Final_Revenue           0\n",
      "Discount_Level          0\n",
      "dtype: int64\n"
     ]
    }
   ],
   "source": [
    "# Check and handle missing values \n",
    "print(\"Missing values per column:\")\n",
    "print(df.isnull().sum())"
   ]
  },
  {
   "cell_type": "code",
   "execution_count": 43,
   "id": "6548d7aa",
   "metadata": {},
   "outputs": [
    {
     "name": "stdout",
     "output_type": "stream",
     "text": [
      "Customer_ID               object\n",
      "Order_ID                  object\n",
      "Order_Date                object\n",
      "Product_Category          object\n",
      "Product_Sub_Category      object\n",
      "Quantity                   int64\n",
      "Price                    float64\n",
      "Discount                 float64\n",
      "Customer_Location         object\n",
      "Revenue                  float64\n",
      "TotalPrice               float64\n",
      "Discount_Amount          float64\n",
      "Final_Revenue            float64\n",
      "Discount_Level          category\n",
      "dtype: object\n",
      "Cleaned dataset shape: (5000, 14)\n"
     ]
    }
   ],
   "source": [
    "# Confirm types and shape\n",
    "print(df.dtypes)\n",
    "print(f\"Cleaned dataset shape: {df.shape}\")"
   ]
  },
  {
   "cell_type": "code",
   "execution_count": null,
   "id": "715c0750",
   "metadata": {},
   "outputs": [
    {
     "name": "stdout",
     "output_type": "stream",
     "text": [
      "No inconsistent values found in 'Revenue'.\n"
     ]
    }
   ],
   "source": [
    "# Checking for inconsistence values\n",
    "# Check for missing or zero/negative revenue\n",
    "if df['Revenue'].isnull().any() or (df['Revenue'] <= 0).any():\n",
    "    print(\"There are inconsistent values in 'Revenue' column.\")\n",
    "else:\n",
    "    print(\"No inconsistent values found in 'Revenue'.\")"
   ]
  },
  {
   "cell_type": "code",
   "execution_count": 45,
   "id": "b5f83e6c",
   "metadata": {},
   "outputs": [
    {
     "data": {
      "text/plain": [
       "0      2023-01-01\n",
       "1      2023-01-01\n",
       "2      2023-01-01\n",
       "3      2023-01-01\n",
       "4      2023-01-02\n",
       "          ...    \n",
       "4995   2024-12-31\n",
       "4996   2024-12-31\n",
       "4997   2024-12-31\n",
       "4998   2024-12-31\n",
       "4999   2024-12-31\n",
       "Name: Order_Date, Length: 5000, dtype: datetime64[ns]"
      ]
     },
     "execution_count": 45,
     "metadata": {},
     "output_type": "execute_result"
    }
   ],
   "source": [
    "# Ensure correct data types\n",
    "df['Order_Date'] = pd.to_datetime(df['Order_Date'])\n",
    "df['Order_Date']"
   ]
  },
  {
   "cell_type": "code",
   "execution_count": 46,
   "id": "43845151",
   "metadata": {},
   "outputs": [
    {
     "name": "stdout",
     "output_type": "stream",
     "text": [
      "Processed data saved as 'cleaned_sales_data.csv'\n"
     ]
    }
   ],
   "source": [
    "# Save the processed data to a new CSV file\n",
    "df.to_csv(\"cleaned_sales_data.csv\", index=False)\n",
    "print(\"Processed data saved as 'cleaned_sales_data.csv'\")"
   ]
  },
  {
   "cell_type": "markdown",
   "id": "639ecc71",
   "metadata": {},
   "source": [
    "### 3. NEW FEATURES ENGINEERING"
   ]
  },
  {
   "cell_type": "code",
   "execution_count": 47,
   "id": "e159b44b",
   "metadata": {},
   "outputs": [
    {
     "data": {
      "text/plain": [
       "0        419.19\n",
       "1        222.37\n",
       "2       6645.90\n",
       "3       1444.20\n",
       "4        191.27\n",
       "         ...   \n",
       "4995     196.62\n",
       "4996      52.41\n",
       "4997     138.98\n",
       "4998    1100.10\n",
       "4999     117.70\n",
       "Name: TotalPrice, Length: 5000, dtype: float64"
      ]
     },
     "execution_count": 47,
     "metadata": {},
     "output_type": "execute_result"
    }
   ],
   "source": [
    "# 1. Total Price Before Discount\n",
    "df[\"TotalPrice\"] = df[\"Quantity\"] * df[\"Price\"]\n",
    "\n",
    "df[\"TotalPrice\"]"
   ]
  },
  {
   "cell_type": "code",
   "execution_count": 48,
   "id": "189096dc",
   "metadata": {},
   "outputs": [
    {
     "data": {
      "text/plain": [
       "0        0.0000\n",
       "1       20.0133\n",
       "2        0.0000\n",
       "3        0.0000\n",
       "4        0.0000\n",
       "         ...   \n",
       "4995     0.0000\n",
       "4996     7.8615\n",
       "4997    11.1184\n",
       "4998     0.0000\n",
       "4999    16.4780\n",
       "Name: Discount_Amount, Length: 5000, dtype: float64"
      ]
     },
     "execution_count": 48,
     "metadata": {},
     "output_type": "execute_result"
    }
   ],
   "source": [
    "# 2. Discounted Amount\n",
    "df[\"Discount_Amount\"] = df[\"TotalPrice\"] * df[\"Discount\"]\n",
    "\n",
    "df[\"Discount_Amount\"]"
   ]
  },
  {
   "cell_type": "code",
   "execution_count": 49,
   "id": "93de7f5b",
   "metadata": {},
   "outputs": [
    {
     "data": {
      "text/plain": [
       "0        419.1900\n",
       "1        202.3567\n",
       "2       6645.9000\n",
       "3       1444.2000\n",
       "4        191.2700\n",
       "          ...    \n",
       "4995     196.6200\n",
       "4996      44.5485\n",
       "4997     127.8616\n",
       "4998    1100.1000\n",
       "4999     101.2220\n",
       "Name: Final_Revenue, Length: 5000, dtype: float64"
      ]
     },
     "execution_count": 49,
     "metadata": {},
     "output_type": "execute_result"
    }
   ],
   "source": [
    "# 3. Final Revenue (in case Revenue column has issues)\n",
    "# Useful incase the Original 'Revenue' column has missing or incorrect values\n",
    "# Useful for cross-checking\n",
    "df[\"Final_Revenue\"] = df[\"TotalPrice\"] - df[\"Discount_Amount\"]\n",
    "\n",
    "df[\"Final_Revenue\"]"
   ]
  },
  {
   "cell_type": "code",
   "execution_count": 51,
   "id": "86f70a55",
   "metadata": {},
   "outputs": [
    {
     "data": {
      "text/plain": [
       "0          Low\n",
       "1       Medium\n",
       "2          Low\n",
       "3          Low\n",
       "4          Low\n",
       "         ...  \n",
       "4995       Low\n",
       "4996    Medium\n",
       "4997    Medium\n",
       "4998       Low\n",
       "4999    Medium\n",
       "Name: Discount_Level, Length: 5000, dtype: category\n",
       "Categories (3, object): ['Low' < 'Medium' < 'High']"
      ]
     },
     "execution_count": 51,
     "metadata": {},
     "output_type": "execute_result"
    }
   ],
   "source": [
    "# 4. Discount Category (low, medium, high)\n",
    "df[\"Discount_Level\"] = pd.cut(df[\"Discount\"], bins=[-0.01, 0.05, 0.15, 1.0],\n",
    "                              labels=[\"Low\", \"Medium\", \"High\"])\n",
    "\n",
    "df[\"Discount_Level\"]"
   ]
  },
  {
   "cell_type": "code",
   "execution_count": 66,
   "id": "03522c36",
   "metadata": {},
   "outputs": [],
   "source": [
    "# 5. Month and Day Features\n",
    "df[\"Month\"] = df[\"Order_Date\"].dt.month_name()\n",
    "df[\"Day_of_Week\"] = df[\"Order_Date\"].dt.day_name()"
   ]
  },
  {
   "cell_type": "code",
   "execution_count": 37,
   "id": "fe4cd45b",
   "metadata": {},
   "outputs": [
    {
     "data": {
      "text/plain": [
       "0       False\n",
       "1       False\n",
       "2        True\n",
       "3        True\n",
       "4       False\n",
       "        ...  \n",
       "4995    False\n",
       "4996    False\n",
       "4997    False\n",
       "4998     True\n",
       "4999    False\n",
       "Name: High_Value_Customer, Length: 5000, dtype: bool"
      ]
     },
     "execution_count": 37,
     "metadata": {},
     "output_type": "execute_result"
    }
   ],
   "source": [
    "# 6. High-Value Customer Flag at threshold 1000\n",
    "df[\"High_Value_Customer\"] = df[\"Final_Revenue\"] > 1000  \n",
    "\n",
    "df[\"High_Value_Customer\"]"
   ]
  },
  {
   "cell_type": "code",
   "execution_count": 57,
   "id": "7b64447e",
   "metadata": {},
   "outputs": [
    {
     "data": {
      "text/html": [
       "<div>\n",
       "<style scoped>\n",
       "    .dataframe tbody tr th:only-of-type {\n",
       "        vertical-align: middle;\n",
       "    }\n",
       "\n",
       "    .dataframe tbody tr th {\n",
       "        vertical-align: top;\n",
       "    }\n",
       "\n",
       "    .dataframe thead th {\n",
       "        text-align: right;\n",
       "    }\n",
       "</style>\n",
       "<table border=\"1\" class=\"dataframe\">\n",
       "  <thead>\n",
       "    <tr style=\"text-align: right;\">\n",
       "      <th></th>\n",
       "      <th>Customer_ID</th>\n",
       "      <th>Order_ID</th>\n",
       "      <th>Order_Date</th>\n",
       "      <th>Product_Category</th>\n",
       "      <th>Product_Sub_Category</th>\n",
       "      <th>Quantity</th>\n",
       "      <th>Price</th>\n",
       "      <th>Discount</th>\n",
       "      <th>Customer_Location</th>\n",
       "      <th>Revenue</th>\n",
       "      <th>TotalPrice</th>\n",
       "      <th>Discount_Amount</th>\n",
       "      <th>Final_Revenue</th>\n",
       "      <th>Discount_Level</th>\n",
       "      <th>Month</th>\n",
       "      <th>Day_of_Week</th>\n",
       "    </tr>\n",
       "  </thead>\n",
       "  <tbody>\n",
       "    <tr>\n",
       "      <th>0</th>\n",
       "      <td>CUST_013738</td>\n",
       "      <td>ORD_00102406</td>\n",
       "      <td>2023-01-01</td>\n",
       "      <td>Home &amp; Garden</td>\n",
       "      <td>Gardening Tools</td>\n",
       "      <td>1</td>\n",
       "      <td>419.19</td>\n",
       "      <td>0.00</td>\n",
       "      <td>TN</td>\n",
       "      <td>419.1900</td>\n",
       "      <td>419.19</td>\n",
       "      <td>0.0000</td>\n",
       "      <td>419.1900</td>\n",
       "      <td>Low</td>\n",
       "      <td>January</td>\n",
       "      <td>Sunday</td>\n",
       "    </tr>\n",
       "    <tr>\n",
       "      <th>1</th>\n",
       "      <td>CUST_011726</td>\n",
       "      <td>ORD_00102902</td>\n",
       "      <td>2023-01-01</td>\n",
       "      <td>Electronics</td>\n",
       "      <td>Laptops</td>\n",
       "      <td>1</td>\n",
       "      <td>222.37</td>\n",
       "      <td>0.09</td>\n",
       "      <td>TN</td>\n",
       "      <td>202.3567</td>\n",
       "      <td>222.37</td>\n",
       "      <td>20.0133</td>\n",
       "      <td>202.3567</td>\n",
       "      <td>Medium</td>\n",
       "      <td>January</td>\n",
       "      <td>Sunday</td>\n",
       "    </tr>\n",
       "    <tr>\n",
       "      <th>2</th>\n",
       "      <td>CUST_010891</td>\n",
       "      <td>ORD_00103864</td>\n",
       "      <td>2023-01-01</td>\n",
       "      <td>Electronics</td>\n",
       "      <td>Laptops</td>\n",
       "      <td>6</td>\n",
       "      <td>1107.65</td>\n",
       "      <td>0.00</td>\n",
       "      <td>IN</td>\n",
       "      <td>6645.9000</td>\n",
       "      <td>6645.90</td>\n",
       "      <td>0.0000</td>\n",
       "      <td>6645.9000</td>\n",
       "      <td>Low</td>\n",
       "      <td>January</td>\n",
       "      <td>Sunday</td>\n",
       "    </tr>\n",
       "    <tr>\n",
       "      <th>3</th>\n",
       "      <td>CUST_011452</td>\n",
       "      <td>ORD_00103560</td>\n",
       "      <td>2023-01-01</td>\n",
       "      <td>Electronics</td>\n",
       "      <td>Gaming Consoles</td>\n",
       "      <td>5</td>\n",
       "      <td>288.84</td>\n",
       "      <td>0.00</td>\n",
       "      <td>MA</td>\n",
       "      <td>1444.2000</td>\n",
       "      <td>1444.20</td>\n",
       "      <td>0.0000</td>\n",
       "      <td>1444.2000</td>\n",
       "      <td>Low</td>\n",
       "      <td>January</td>\n",
       "      <td>Sunday</td>\n",
       "    </tr>\n",
       "    <tr>\n",
       "      <th>4</th>\n",
       "      <td>CUST_010886</td>\n",
       "      <td>ORD_00100632</td>\n",
       "      <td>2023-01-02</td>\n",
       "      <td>Electronics</td>\n",
       "      <td>Headphones</td>\n",
       "      <td>1</td>\n",
       "      <td>191.27</td>\n",
       "      <td>0.00</td>\n",
       "      <td>AZ</td>\n",
       "      <td>191.2700</td>\n",
       "      <td>191.27</td>\n",
       "      <td>0.0000</td>\n",
       "      <td>191.2700</td>\n",
       "      <td>Low</td>\n",
       "      <td>January</td>\n",
       "      <td>Monday</td>\n",
       "    </tr>\n",
       "  </tbody>\n",
       "</table>\n",
       "</div>"
      ],
      "text/plain": [
       "   Customer_ID      Order_ID Order_Date Product_Category Product_Sub_Category  \\\n",
       "0  CUST_013738  ORD_00102406 2023-01-01    Home & Garden      Gardening Tools   \n",
       "1  CUST_011726  ORD_00102902 2023-01-01      Electronics              Laptops   \n",
       "2  CUST_010891  ORD_00103864 2023-01-01      Electronics              Laptops   \n",
       "3  CUST_011452  ORD_00103560 2023-01-01      Electronics      Gaming Consoles   \n",
       "4  CUST_010886  ORD_00100632 2023-01-02      Electronics           Headphones   \n",
       "\n",
       "   Quantity    Price  Discount Customer_Location    Revenue  TotalPrice  \\\n",
       "0         1   419.19      0.00                TN   419.1900      419.19   \n",
       "1         1   222.37      0.09                TN   202.3567      222.37   \n",
       "2         6  1107.65      0.00                IN  6645.9000     6645.90   \n",
       "3         5   288.84      0.00                MA  1444.2000     1444.20   \n",
       "4         1   191.27      0.00                AZ   191.2700      191.27   \n",
       "\n",
       "   Discount_Amount  Final_Revenue Discount_Level    Month Day_of_Week  \n",
       "0           0.0000       419.1900            Low  January      Sunday  \n",
       "1          20.0133       202.3567         Medium  January      Sunday  \n",
       "2           0.0000      6645.9000            Low  January      Sunday  \n",
       "3           0.0000      1444.2000            Low  January      Sunday  \n",
       "4           0.0000       191.2700            Low  January      Monday  "
      ]
     },
     "execution_count": 57,
     "metadata": {},
     "output_type": "execute_result"
    }
   ],
   "source": [
    "df.head()"
   ]
  },
  {
   "cell_type": "markdown",
   "id": "9aa9b2e4",
   "metadata": {},
   "source": [
    "### 4. Exploratory Data Analysis (EDA)"
   ]
  },
  {
   "cell_type": "code",
   "execution_count": 61,
   "id": "890db69d",
   "metadata": {},
   "outputs": [
    {
     "name": "stdout",
     "output_type": "stream",
     "text": [
      "<class 'pandas.core.frame.DataFrame'>\n",
      "RangeIndex: 5000 entries, 0 to 4999\n",
      "Data columns (total 16 columns):\n",
      " #   Column                Non-Null Count  Dtype         \n",
      "---  ------                --------------  -----         \n",
      " 0   Customer_ID           5000 non-null   object        \n",
      " 1   Order_ID              5000 non-null   object        \n",
      " 2   Order_Date            5000 non-null   datetime64[ns]\n",
      " 3   Product_Category      5000 non-null   object        \n",
      " 4   Product_Sub_Category  5000 non-null   object        \n",
      " 5   Quantity              5000 non-null   int64         \n",
      " 6   Price                 5000 non-null   float64       \n",
      " 7   Discount              5000 non-null   float64       \n",
      " 8   Customer_Location     5000 non-null   object        \n",
      " 9   Revenue               5000 non-null   float64       \n",
      " 10  TotalPrice            5000 non-null   float64       \n",
      " 11  Discount_Amount       5000 non-null   float64       \n",
      " 12  Final_Revenue         5000 non-null   float64       \n",
      " 13  Discount_Level        5000 non-null   category      \n",
      " 14  Month                 5000 non-null   object        \n",
      " 15  Day_of_Week           5000 non-null   object        \n",
      "dtypes: category(1), datetime64[ns](1), float64(6), int64(1), object(7)\n",
      "memory usage: 591.1+ KB\n",
      "None\n",
      "dataset shape: (5000, 16)\n"
     ]
    }
   ],
   "source": [
    "print(df.info())\n",
    "print(f\"dataset shape: {df.shape}\")"
   ]
  },
  {
   "cell_type": "code",
   "execution_count": null,
   "id": "da2befee",
   "metadata": {},
   "outputs": [
    {
     "name": "stdout",
     "output_type": "stream",
     "text": [
      "          Quantity        Price     Discount       Revenue    TotalPrice  \\\n",
      "count  5000.000000  5000.000000  5000.000000   5000.000000   5000.000000   \n",
      "mean      2.368800   330.240118     0.063534    743.955115    791.507812   \n",
      "std       1.704631   427.081790     0.118311   1328.413944   1390.262541   \n",
      "min       1.000000     8.000000     0.000000      6.164400      8.010000   \n",
      "25%       1.000000    54.017500     0.000000     94.601000    104.297500   \n",
      "50%       2.000000   149.770000     0.000000    264.530250    287.740000   \n",
      "75%       3.000000   415.087500     0.090000    767.867500    826.407500   \n",
      "max      10.000000  1997.860000     0.500000  13819.840000  13971.150000   \n",
      "\n",
      "       Discount_Amount  Final_Revenue  \n",
      "count      5000.000000    5000.000000  \n",
      "mean         47.552697     743.955115  \n",
      "std         194.640992    1328.413944  \n",
      "min           0.000000       6.164400  \n",
      "25%           0.000000      94.601000  \n",
      "50%           0.000000     264.530250  \n",
      "75%          11.961850     767.867500  \n",
      "max        4224.595000   13819.840000  \n"
     ]
    }
   ],
   "source": [
    "print(df.describe())"
   ]
  },
  {
   "cell_type": "code",
   "execution_count": null,
   "id": "5bfa0fd9",
   "metadata": {},
   "outputs": [
    {
     "name": "stdout",
     "output_type": "stream",
     "text": [
      "Customer_ID             3203\n",
      "Order_ID                5000\n",
      "Order_Date               730\n",
      "Product_Category           6\n",
      "Product_Sub_Category      36\n",
      "Quantity                  10\n",
      "Price                   4743\n",
      "Discount                  47\n",
      "Customer_Location         30\n",
      "Revenue                 4915\n",
      "TotalPrice              4845\n",
      "Discount_Amount         1543\n",
      "Final_Revenue           4921\n",
      "Discount_Level             3\n",
      "dtype: int64\n"
     ]
    }
   ],
   "source": [
    "# Count of unique values\n",
    "print(df.nunique())"
   ]
  },
  {
   "cell_type": "code",
   "execution_count": 64,
   "id": "80e2e66f",
   "metadata": {},
   "outputs": [
    {
     "name": "stdout",
     "output_type": "stream",
     "text": [
      "Product_Category\n",
      "Electronics      882\n",
      "Books            871\n",
      "Clothing         832\n",
      "Sports           826\n",
      "Beauty           821\n",
      "Home & Garden    768\n",
      "Name: count, dtype: int64\n",
      "Customer_Location\n",
      "IL    191\n",
      "LA    189\n",
      "MD    188\n",
      "MI    186\n",
      "CO    186\n",
      "AZ    179\n",
      "AL    179\n",
      "WI    177\n",
      "NJ    177\n",
      "WA    176\n",
      "MA    175\n",
      "MO    173\n",
      "PA    170\n",
      "OH    169\n",
      "FL    163\n",
      "VA    163\n",
      "SC    163\n",
      "MN    162\n",
      "KY    162\n",
      "GA    161\n",
      "OR    161\n",
      "CT    160\n",
      "NY    159\n",
      "OK    155\n",
      "NC    154\n",
      "TX    150\n",
      "CA    150\n",
      "UT    144\n",
      "TN    141\n",
      "IN    137\n",
      "Name: count, dtype: int64\n"
     ]
    }
   ],
   "source": [
    "# Top categories\n",
    "print(df_grd[\"Product_Category\"].value_counts())\n",
    "print(df_grd[\"Customer_Location\"].value_counts())"
   ]
  },
  {
   "cell_type": "code",
   "execution_count": 82,
   "id": "739036e9",
   "metadata": {},
   "outputs": [
    {
     "data": {
      "image/png": "[encoded data removed]",
      "text/plain": [
       "<Figure size 800x500 with 1 Axes>"
      ]
     },
     "metadata": {},
     "output_type": "display_data"
    },
    {
     "data": {
      "image/png": "[encoded data removed]",
      "text/plain": [
       "<Figure size 800x500 with 1 Axes>"
      ]
     },
     "metadata": {},
     "output_type": "display_data"
    },
    {
     "data": {
      "image/png": "[encoded data removed]",
      "text/plain": [
       "<Figure size 800x500 with 1 Axes>"
      ]
     },
     "metadata": {},
     "output_type": "display_data"
    }
   ],
   "source": [
    "# VISUAL EDA\n",
    "# 1. Revenue distribution\n",
    "plt.figure(figsize=(8, 5))\n",
    "sns.histplot(df[\"Final_Revenue\"], bins=30, kde=True)\n",
    "plt.title(\"Revenue Distribution\")\n",
    "plt.xlabel(\"Final Revenue\")\n",
    "plt.show()\n",
    "\n",
    "# 2. Orders by Day of Week\n",
    "plt.figure(figsize=(8, 5))\n",
    "sns.countplot(x=\"Day_of_Week\", data=df, order=[\n",
    "              \"Monday\", \"Tuesday\", \"Wednesday\", \"Thursday\", \"Friday\", \"Saturday\", \"Sunday\"])\n",
    "plt.title(\"Orders by Day of Week\")\n",
    "plt.xticks(rotation=45)\n",
    "plt.show()\n",
    "\n",
    "# 3. Discount level vs Revenue\n",
    "plt.figure(figsize=(8, 5))\n",
    "sns.boxplot(x=\"Discount_Level\", y=\"Final_Revenue\", data=df)\n",
    "plt.title(\"Revenue vs Discount Level\")\n",
    "plt.show()\n"
   ]
  },
  {
   "cell_type": "markdown",
   "id": "8841b280",
   "metadata": {},
   "source": [
    "### 5. INSIGHTS GENERATION WITH PANDAS\n",
    "1. Which product category has generated the most revenue?\n",
    "2. Which product subcategories generate the most revenue?\n",
    "3. Which customer segment has the highest average order value?\n",
    "4. What is the average discount applied to high-value customers?\n",
    "5. Which geographic locations have the highest concentration of high-value customers?\n",
    "6. How does the discount rate impact the total sales across different product categories?\n",
    "7. Identify trends in purchase behavior over time (e.g., monthly)"
   ]
  },
  {
   "cell_type": "code",
   "execution_count": null,
   "id": "bd299b21",
   "metadata": {},
   "outputs": [
    {
     "data": {
      "text/plain": [
       "Product_Category\n",
       "Electronics      2.079574e+06\n",
       "Home & Garden    6.814707e+05\n",
       "Sports           4.744529e+05\n",
       "Clothing         2.819485e+05\n",
       "Beauty           1.371077e+05\n",
       "Books            6.522193e+04\n",
       "Name: Revenue, dtype: float64"
      ]
     },
     "execution_count": 70,
     "metadata": {},
     "output_type": "execute_result"
    }
   ],
   "source": [
    "# 1. Which product category has generated the most revenue?\n",
    "\n",
    "df.groupby(\"Product_Category\")[\"Revenue\"].sum().sort_values(ascending=False)"
   ]
  },
  {
   "cell_type": "code",
   "execution_count": null,
   "id": "b3b948a6",
   "metadata": {},
   "outputs": [
    {
     "data": {
      "text/plain": [
       "Product_Sub_Category\n",
       "Smart Watches         403335.4208\n",
       "Smartphones           365802.8764\n",
       "Tablets               348740.8234\n",
       "Gaming Consoles       332296.2353\n",
       "Headphones            318398.7129\n",
       "Laptops               310999.7473\n",
       "Gardening Tools       129829.3451\n",
       "Kitchen Appliances    125048.8293\n",
       "Storage               110330.1389\n",
       "Home Decor            109826.6465\n",
       "Bedding               104745.4457\n",
       "Furniture             101690.3165\n",
       "Fitness Equipment      89386.9424\n",
       "Winter Sports          85401.0424\n",
       "Water Sports           82157.8339\n",
       "Cycling                74612.5020\n",
       "Outdoor Gear           71642.8698\n",
       "Team Sports            71251.6909\n",
       "Sportswear             50478.1730\n",
       "Accessories            49027.4725\n",
       "Jeans                  47992.4545\n",
       "Shoes                  46340.9219\n",
       "Mens Shirts            46028.2462\n",
       "Womens Dresses         42081.2178\n",
       "Beauty Tools           26142.8019\n",
       "Skincare               24689.3550\n",
       "Fragrances             24394.3354\n",
       "Personal Care          21010.3177\n",
       "Makeup                 20465.4184\n",
       "Hair Care              20405.5111\n",
       "Fiction                12448.1058\n",
       "Non-Fiction            11548.5600\n",
       "Comics                 11226.8538\n",
       "Educational            10343.8181\n",
       "Magazines               9852.4987\n",
       "Children Books          9802.0953\n",
       "Name: Revenue, dtype: float64"
      ]
     },
     "execution_count": 71,
     "metadata": {},
     "output_type": "execute_result"
    }
   ],
   "source": [
    "# 2. Which product subcategories generate the most revenue?\n",
    "\n",
    "df.groupby(\"Product_Sub_Category\")[\"Revenue\"].sum().sort_values(ascending=False)"
   ]
  },
  {
   "cell_type": "code",
   "execution_count": 73,
   "id": "f2f30a48",
   "metadata": {},
   "outputs": [
    {
     "data": {
      "text/plain": [
       "Customer_ID\n",
       "CUST_011802    13819.8400\n",
       "CUST_013998    12708.0100\n",
       "CUST_012208    11895.9820\n",
       "CUST_014549    10387.2000\n",
       "CUST_011076    10201.0500\n",
       "                  ...    \n",
       "CUST_011755        8.7600\n",
       "CUST_010033        8.7300\n",
       "CUST_010621        8.4235\n",
       "CUST_011863        7.5768\n",
       "CUST_011849        6.7592\n",
       "Name: Revenue, Length: 3203, dtype: float64"
      ]
     },
     "execution_count": 73,
     "metadata": {},
     "output_type": "execute_result"
    }
   ],
   "source": [
    "# 3. Which customer segment has the highest average order value?\n",
    "\n",
    "order_totals = df.groupby(\"Order_ID\")[\"Revenue\"].sum().reset_index()\n",
    "customer_orders = df[[\"Order_ID\", \"Customer_ID\"]].drop_duplicates()\n",
    "avg_order = order_totals.merge(customer_orders, on=\"Order_ID\")\n",
    "avg_order.groupby(\"Customer_ID\")[\"Revenue\"].mean().sort_values(ascending=False)"
   ]
  },
  {
   "cell_type": "code",
   "execution_count": 75,
   "id": "013fe30d",
   "metadata": {},
   "outputs": [
    {
     "data": {
      "text/plain": [
       "np.float64(0.056473659231134316)"
      ]
     },
     "execution_count": 75,
     "metadata": {},
     "output_type": "execute_result"
    }
   ],
   "source": [
    "# 4. What is the average discount applied to high-value customers?\n",
    "# Assume high-value = customer with total spent > 1000\n",
    "\n",
    "customer_spend = df.groupby(\"Customer_ID\")[\"Revenue\"].sum()\n",
    "high_value_cust = customer_spend[customer_spend > 1000].index\n",
    "df[df[\"Customer_ID\"].isin(high_value_cust)][\"Discount\"].mean()\n"
   ]
  },
  {
   "cell_type": "code",
   "execution_count": 78,
   "id": "44d46ff2",
   "metadata": {},
   "outputs": [
    {
     "data": {
      "text/plain": [
       "Customer_Location\n",
       "NJ    90\n",
       "CO    85\n",
       "LA    80\n",
       "IL    80\n",
       "NC    78\n",
       "AL    77\n",
       "WA    74\n",
       "MN    74\n",
       "MD    73\n",
       "WI    73\n",
       "MA    72\n",
       "MI    71\n",
       "PA    70\n",
       "AZ    69\n",
       "UT    67\n",
       "CT    67\n",
       "SC    67\n",
       "MO    67\n",
       "FL    67\n",
       "NY    66\n",
       "OH    65\n",
       "OR    65\n",
       "VA    64\n",
       "GA    63\n",
       "TX    60\n",
       "OK    60\n",
       "CA    58\n",
       "KY    58\n",
       "IN    57\n",
       "TN    49\n",
       "Name: Customer_ID, dtype: int64"
      ]
     },
     "execution_count": 78,
     "metadata": {},
     "output_type": "execute_result"
    }
   ],
   "source": [
    "# 5. Which geographic locations have the highest concentration of high-value customers?\n",
    "\n",
    "high_value_df = df[df[\"Customer_ID\"].isin(high_value_cust)]\n",
    "high_value_df.groupby(\"Customer_Location\")[\"Customer_ID\"].nunique().sort_values(ascending=False)"
   ]
  },
  {
   "cell_type": "code",
   "execution_count": 79,
   "id": "afd88f7e",
   "metadata": {},
   "outputs": [
    {
     "data": {
      "text/html": [
       "<div>\n",
       "<style scoped>\n",
       "    .dataframe tbody tr th:only-of-type {\n",
       "        vertical-align: middle;\n",
       "    }\n",
       "\n",
       "    .dataframe tbody tr th {\n",
       "        vertical-align: top;\n",
       "    }\n",
       "\n",
       "    .dataframe thead th {\n",
       "        text-align: right;\n",
       "    }\n",
       "</style>\n",
       "<table border=\"1\" class=\"dataframe\">\n",
       "  <thead>\n",
       "    <tr style=\"text-align: right;\">\n",
       "      <th>Discount</th>\n",
       "      <th>0.00</th>\n",
       "      <th>0.05</th>\n",
       "      <th>0.06</th>\n",
       "      <th>0.07</th>\n",
       "      <th>0.08</th>\n",
       "      <th>0.09</th>\n",
       "      <th>0.10</th>\n",
       "      <th>0.11</th>\n",
       "      <th>0.12</th>\n",
       "      <th>0.13</th>\n",
       "      <th>...</th>\n",
       "      <th>0.41</th>\n",
       "      <th>0.42</th>\n",
       "      <th>0.43</th>\n",
       "      <th>0.44</th>\n",
       "      <th>0.45</th>\n",
       "      <th>0.46</th>\n",
       "      <th>0.47</th>\n",
       "      <th>0.48</th>\n",
       "      <th>0.49</th>\n",
       "      <th>0.50</th>\n",
       "    </tr>\n",
       "    <tr>\n",
       "      <th>Product_Category</th>\n",
       "      <th></th>\n",
       "      <th></th>\n",
       "      <th></th>\n",
       "      <th></th>\n",
       "      <th></th>\n",
       "      <th></th>\n",
       "      <th></th>\n",
       "      <th></th>\n",
       "      <th></th>\n",
       "      <th></th>\n",
       "      <th></th>\n",
       "      <th></th>\n",
       "      <th></th>\n",
       "      <th></th>\n",
       "      <th></th>\n",
       "      <th></th>\n",
       "      <th></th>\n",
       "      <th></th>\n",
       "      <th></th>\n",
       "      <th></th>\n",
       "      <th></th>\n",
       "    </tr>\n",
       "  </thead>\n",
       "  <tbody>\n",
       "    <tr>\n",
       "      <th>Beauty</th>\n",
       "      <td>100612.27</td>\n",
       "      <td>1437.7395</td>\n",
       "      <td>2868.0622</td>\n",
       "      <td>1138.3851</td>\n",
       "      <td>2240.2920</td>\n",
       "      <td>2591.5617</td>\n",
       "      <td>1573.686</td>\n",
       "      <td>2592.4988</td>\n",
       "      <td>1415.5592</td>\n",
       "      <td>2102.9205</td>\n",
       "      <td>...</td>\n",
       "      <td>374.4966</td>\n",
       "      <td>514.1526</td>\n",
       "      <td>155.6784</td>\n",
       "      <td>392.2240</td>\n",
       "      <td>324.5935</td>\n",
       "      <td>115.8516</td>\n",
       "      <td>516.2677</td>\n",
       "      <td>392.9640</td>\n",
       "      <td>265.3632</td>\n",
       "      <td>365.570</td>\n",
       "    </tr>\n",
       "    <tr>\n",
       "      <th>Books</th>\n",
       "      <td>47592.15</td>\n",
       "      <td>241.3190</td>\n",
       "      <td>757.3674</td>\n",
       "      <td>792.1275</td>\n",
       "      <td>824.7340</td>\n",
       "      <td>1592.4727</td>\n",
       "      <td>363.114</td>\n",
       "      <td>1029.9703</td>\n",
       "      <td>1323.8192</td>\n",
       "      <td>990.5472</td>\n",
       "      <td>...</td>\n",
       "      <td>44.1320</td>\n",
       "      <td>97.3994</td>\n",
       "      <td>113.4300</td>\n",
       "      <td>183.7864</td>\n",
       "      <td>260.5295</td>\n",
       "      <td>350.5518</td>\n",
       "      <td>127.5180</td>\n",
       "      <td>129.9636</td>\n",
       "      <td>55.8348</td>\n",
       "      <td>125.050</td>\n",
       "    </tr>\n",
       "    <tr>\n",
       "      <th>Clothing</th>\n",
       "      <td>206131.56</td>\n",
       "      <td>3676.4240</td>\n",
       "      <td>1930.1584</td>\n",
       "      <td>5263.2978</td>\n",
       "      <td>2211.0820</td>\n",
       "      <td>6857.4961</td>\n",
       "      <td>2550.600</td>\n",
       "      <td>3367.0658</td>\n",
       "      <td>3919.3088</td>\n",
       "      <td>2169.6582</td>\n",
       "      <td>...</td>\n",
       "      <td>684.6773</td>\n",
       "      <td>928.3596</td>\n",
       "      <td>206.6763</td>\n",
       "      <td>189.4368</td>\n",
       "      <td>156.2715</td>\n",
       "      <td>181.3914</td>\n",
       "      <td>315.1380</td>\n",
       "      <td>1357.1844</td>\n",
       "      <td>472.8210</td>\n",
       "      <td>267.870</td>\n",
       "    </tr>\n",
       "    <tr>\n",
       "      <th>Electronics</th>\n",
       "      <td>1602712.04</td>\n",
       "      <td>4906.4080</td>\n",
       "      <td>34192.1804</td>\n",
       "      <td>23190.1173</td>\n",
       "      <td>12589.2708</td>\n",
       "      <td>36512.7126</td>\n",
       "      <td>23075.118</td>\n",
       "      <td>30561.3807</td>\n",
       "      <td>19894.9344</td>\n",
       "      <td>21090.7662</td>\n",
       "      <td>...</td>\n",
       "      <td>8581.2432</td>\n",
       "      <td>8181.2828</td>\n",
       "      <td>2506.3413</td>\n",
       "      <td>320.1016</td>\n",
       "      <td>4003.8185</td>\n",
       "      <td>6352.0686</td>\n",
       "      <td>10859.3343</td>\n",
       "      <td>4667.1144</td>\n",
       "      <td>2397.2244</td>\n",
       "      <td>379.125</td>\n",
       "    </tr>\n",
       "    <tr>\n",
       "      <th>Home &amp; Garden</th>\n",
       "      <td>500935.12</td>\n",
       "      <td>4446.0760</td>\n",
       "      <td>13582.2480</td>\n",
       "      <td>5155.3527</td>\n",
       "      <td>8532.6136</td>\n",
       "      <td>8574.8481</td>\n",
       "      <td>7969.077</td>\n",
       "      <td>9014.4006</td>\n",
       "      <td>4989.3888</td>\n",
       "      <td>7419.6123</td>\n",
       "      <td>...</td>\n",
       "      <td>3231.1881</td>\n",
       "      <td>2597.5996</td>\n",
       "      <td>347.0445</td>\n",
       "      <td>1131.8608</td>\n",
       "      <td>1528.2905</td>\n",
       "      <td>1232.6580</td>\n",
       "      <td>1123.9710</td>\n",
       "      <td>1805.4660</td>\n",
       "      <td>1371.1554</td>\n",
       "      <td>241.040</td>\n",
       "    </tr>\n",
       "    <tr>\n",
       "      <th>Sports</th>\n",
       "      <td>335757.95</td>\n",
       "      <td>1315.8355</td>\n",
       "      <td>11374.8742</td>\n",
       "      <td>7755.9303</td>\n",
       "      <td>7646.3776</td>\n",
       "      <td>3143.7042</td>\n",
       "      <td>3794.121</td>\n",
       "      <td>8126.8926</td>\n",
       "      <td>6158.6536</td>\n",
       "      <td>8704.8807</td>\n",
       "      <td>...</td>\n",
       "      <td>1845.6085</td>\n",
       "      <td>1058.6914</td>\n",
       "      <td>891.2463</td>\n",
       "      <td>1141.3416</td>\n",
       "      <td>291.4505</td>\n",
       "      <td>2212.0668</td>\n",
       "      <td>844.3960</td>\n",
       "      <td>561.2932</td>\n",
       "      <td>50.1840</td>\n",
       "      <td>401.200</td>\n",
       "    </tr>\n",
       "  </tbody>\n",
       "</table>\n",
       "<p>6 rows × 47 columns</p>\n",
       "</div>"
      ],
      "text/plain": [
       "Discount                0.00       0.05        0.06        0.07        0.08  \\\n",
       "Product_Category                                                              \n",
       "Beauty             100612.27  1437.7395   2868.0622   1138.3851   2240.2920   \n",
       "Books               47592.15   241.3190    757.3674    792.1275    824.7340   \n",
       "Clothing           206131.56  3676.4240   1930.1584   5263.2978   2211.0820   \n",
       "Electronics       1602712.04  4906.4080  34192.1804  23190.1173  12589.2708   \n",
       "Home & Garden      500935.12  4446.0760  13582.2480   5155.3527   8532.6136   \n",
       "Sports             335757.95  1315.8355  11374.8742   7755.9303   7646.3776   \n",
       "\n",
       "Discount                0.09       0.10        0.11        0.12        0.13  \\\n",
       "Product_Category                                                              \n",
       "Beauty             2591.5617   1573.686   2592.4988   1415.5592   2102.9205   \n",
       "Books              1592.4727    363.114   1029.9703   1323.8192    990.5472   \n",
       "Clothing           6857.4961   2550.600   3367.0658   3919.3088   2169.6582   \n",
       "Electronics       36512.7126  23075.118  30561.3807  19894.9344  21090.7662   \n",
       "Home & Garden      8574.8481   7969.077   9014.4006   4989.3888   7419.6123   \n",
       "Sports             3143.7042   3794.121   8126.8926   6158.6536   8704.8807   \n",
       "\n",
       "Discount          ...       0.41       0.42       0.43       0.44       0.45  \\\n",
       "Product_Category  ...                                                          \n",
       "Beauty            ...   374.4966   514.1526   155.6784   392.2240   324.5935   \n",
       "Books             ...    44.1320    97.3994   113.4300   183.7864   260.5295   \n",
       "Clothing          ...   684.6773   928.3596   206.6763   189.4368   156.2715   \n",
       "Electronics       ...  8581.2432  8181.2828  2506.3413   320.1016  4003.8185   \n",
       "Home & Garden     ...  3231.1881  2597.5996   347.0445  1131.8608  1528.2905   \n",
       "Sports            ...  1845.6085  1058.6914   891.2463  1141.3416   291.4505   \n",
       "\n",
       "Discount               0.46        0.47       0.48       0.49     0.50  \n",
       "Product_Category                                                        \n",
       "Beauty             115.8516    516.2677   392.9640   265.3632  365.570  \n",
       "Books              350.5518    127.5180   129.9636    55.8348  125.050  \n",
       "Clothing           181.3914    315.1380  1357.1844   472.8210  267.870  \n",
       "Electronics       6352.0686  10859.3343  4667.1144  2397.2244  379.125  \n",
       "Home & Garden     1232.6580   1123.9710  1805.4660  1371.1554  241.040  \n",
       "Sports            2212.0668    844.3960   561.2932    50.1840  401.200  \n",
       "\n",
       "[6 rows x 47 columns]"
      ]
     },
     "execution_count": 79,
     "metadata": {},
     "output_type": "execute_result"
    }
   ],
   "source": [
    "# 6. How does the discount rate impact the total sales across different product categories?\n",
    "\n",
    "disc_rate_impact = df_grd.groupby([\"Product_Category\", \"Discount\"])[\"Revenue\"].sum().unstack() #.fillna(0)\n",
    "\n",
    "disc_rate_impact\n"
   ]
  },
  {
   "cell_type": "code",
   "execution_count": 83,
   "id": "c1b13bbc",
   "metadata": {},
   "outputs": [
    {
     "data": {
      "image/png": "[encoded data removed]",
      "text/plain": [
       "<Figure size 640x480 with 2 Axes>"
      ]
     },
     "metadata": {},
     "output_type": "display_data"
    }
   ],
   "source": [
    "sns.heatmap(disc_rate_impact, cmap=\"YlGnBu\")\n",
    "plt.title(\"Revenue by Category and Discount\")\n",
    "plt.show()"
   ]
  },
  {
   "cell_type": "code",
   "execution_count": 84,
   "id": "0e173774",
   "metadata": {},
   "outputs": [
    {
     "data": {
      "text/plain": [
       "Month\n",
       "2023-01    177437.6013\n",
       "2023-02    173608.8882\n",
       "2023-03    151549.1629\n",
       "2023-04    160107.8262\n",
       "2023-05    167926.8782\n",
       "2023-06    134903.8958\n",
       "2023-07    202245.1529\n",
       "2023-08    102365.7004\n",
       "2023-09    153440.8570\n",
       "2023-10    160409.8015\n",
       "2023-11    137063.2309\n",
       "2023-12    154119.1079\n",
       "2024-01    187767.1758\n",
       "2024-02    185474.4577\n",
       "2024-03    156389.5161\n",
       "2024-04    133587.1201\n",
       "2024-05    164528.5586\n",
       "2024-06    140662.3017\n",
       "2024-07    165830.4983\n",
       "2024-08    130879.2232\n",
       "2024-09    147267.8345\n",
       "2024-10    133072.4755\n",
       "2024-11    153979.2064\n",
       "2024-12    145159.1055\n",
       "Freq: M, Name: Revenue, dtype: float64"
      ]
     },
     "execution_count": 84,
     "metadata": {},
     "output_type": "execute_result"
    }
   ],
   "source": [
    "# 7. Identify trends in purchase behavior over time (e.g., monthly)\n",
    "\n",
    "df_grd[\"Order_Date\"] = pd.to_datetime(df_grd[\"Order_Date\"])\n",
    "df_grd[\"Month\"] = df_grd[\"Order_Date\"].dt.to_period(\"M\")\n",
    "monthly_trend = df_grd.groupby(\"Month\")[\"Revenue\"].sum()\n",
    "\n",
    "monthly_trend"
   ]
  },
  {
   "cell_type": "code",
   "execution_count": 85,
   "id": "1c3931c9",
   "metadata": {},
   "outputs": [
    {
     "data": {
      "text/plain": [
       "<Axes: title={'center': 'Monthly Revenue Trend'}, xlabel='Month', ylabel='Revenue'>"
      ]
     },
     "execution_count": 85,
     "metadata": {},
     "output_type": "execute_result"
    },
    {
     "data": {
      "image/png": "[encoded data removed]",
      "text/plain": [
       "<Figure size 640x480 with 1 Axes>"
      ]
     },
     "metadata": {},
     "output_type": "display_data"
    }
   ],
   "source": [
    "monthly_trend.plot(kind=\"line\", title=\"Monthly Revenue Trend\", ylabel=\"Revenue\", xlabel=\"Month\")"
   ]
  }
 ],
 "metadata": {
  "kernelspec": {
   "display_name": ".venv",
   "language": "python",
   "name": "python3"
  },
  "language_info": {
   "codemirror_mode": {
    "name": "ipython",
    "version": 3
   },
   "file_extension": ".py",
   "mimetype": "text/x-python",
   "name": "python",
   "nbconvert_exporter": "python",
   "pygments_lexer": "ipython3",
   "version": "3.11.9"
  }
 },
 "nbformat": 4,
 "nbformat_minor": 5
}
